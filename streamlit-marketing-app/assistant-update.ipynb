{
  "cells": [
    {
      "cell_type": "markdown",
      "metadata": {},
      "source": [
        "# Update your AI Assistant\n"
      ]
    },
    {
      "cell_type": "markdown",
      "metadata": {},
      "source": [
        "## Setup\n",
        "\n",
        "Let's get started!"
      ]
    },
    {
      "cell_type": "code",
      "execution_count": 1,
      "metadata": {},
      "outputs": [],
      "source": [
        "import openai\n",
        "from openai import OpenAI\n",
        "import os\n",
        "from dotenv import load_dotenv, find_dotenv\n",
        "\n",
        "# Load the environment variables\n",
        "_ = load_dotenv(find_dotenv())\n",
        "openai.api_key = os.getenv('OPENAI_API_KEY')"
      ]
    },
    {
      "cell_type": "markdown",
      "metadata": {},
      "source": [
        "Sart the session"
      ]
    },
    {
      "cell_type": "code",
      "execution_count": 2,
      "metadata": {},
      "outputs": [],
      "source": [
        "client = OpenAI()"
      ]
    },
    {
      "cell_type": "markdown",
      "metadata": {},
      "source": [
        "Provide the Assistant ID that you want to update:"
      ]
    },
    {
      "cell_type": "code",
      "execution_count": 3,
      "metadata": {},
      "outputs": [],
      "source": [
        "assistant_id = 'asst_1eXShmRgN9tK7BW7MArILK6j'  # meine Assistant ID"
      ]
    },
    {
      "cell_type": "markdown",
      "metadata": {},
      "source": [
        "## Provide updated instructions"
      ]
    },
    {
      "cell_type": "markdown",
      "metadata": {},
      "source": [
        "Provide your updated instructions:"
      ]
    },
    {
      "cell_type": "code",
      "execution_count": 4,
      "metadata": {},
      "outputs": [],
      "source": [
        "updated_instructions = \"You are a professional and helpful assistant specializing in creating compelling and detailed product descriptions. Your descriptions should be clear, concise, and highlight the product's key features and benefits. Your tone should be friendly and informative, suitable for a diverse audience including both technical and non-technical users.\"\n",
        "#Meine instructions für den Prompt"
      ]
    },
    {
      "cell_type": "markdown",
      "metadata": {},
      "source": [
        "Now update the Assistant:"
      ]
    },
    {
      "cell_type": "code",
      "execution_count": 5,
      "metadata": {},
      "outputs": [
        {
          "name": "stdout",
          "output_type": "stream",
          "text": [
            "Assistant(id='asst_1eXShmRgN9tK7BW7MArILK6j', created_at=1715163381, description=None, instructions='You are a sarcastic and unfriendly sherlock holmes like character. You are very mean.', metadata={}, model='gpt-4-1106-preview', name='ho012', object='assistant', tools=[CodeInterpreterTool(type='code_interpreter')], response_format='auto', temperature=1.0, tool_resources=ToolResources(code_interpreter=ToolResourcesCodeInterpreter(file_ids=[]), file_search=None), top_p=1.0)\n"
          ]
        }
      ],
      "source": [
        "# Update the Assistant\n",
        "updated_assistant = client.beta.assistants.update(\n",
        "    assistant_id=assistant_id,\n",
        "    instructions=updated_instructions,\n",
        "    # You can add more fields here to update other properties as needed\n",
        ")\n",
        "\n",
        "# Print the response to check the updated assistant details\n",
        "print(updated_assistant)"
      ]
    }
  ],
  "metadata": {
    "kernelspec": {
      "display_name": "Python 3 (ipykernel)",
      "language": "python",
      "name": "python3"
    },
    "language_info": {
      "codemirror_mode": {
        "name": "ipython",
        "version": 3
      },
      "file_extension": ".py",
      "mimetype": "text/x-python",
      "name": "python",
      "nbconvert_exporter": "python",
      "pygments_lexer": "ipython3",
      "version": "3.11.9"
    }
  },
  "nbformat": 4,
  "nbformat_minor": 4
}
